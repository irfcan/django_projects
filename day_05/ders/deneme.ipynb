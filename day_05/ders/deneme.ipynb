{
 "cells": [
  {
   "cell_type": "code",
   "execution_count": 4,
   "metadata": {},
   "outputs": [
    {
     "data": {
      "text/plain": [
       "['tarih', 'roman', 'psikoloji']"
      ]
     },
     "execution_count": 4,
     "metadata": {},
     "output_type": "execute_result"
    }
   ],
   "source": [
    "data = {\n",
    "    \"tarih\": \"Tarih kategorisindeki kitap listesi\",\n",
    "    \"roman\": \"Roman kategorisindeki kitap listesi\",\n",
    "    \"psikoloji\": \"Psikoloji kategorisindeki kitap listesi\",\n",
    "}\n",
    "\n",
    "data.keys()\n",
    "# data.values()\n",
    "list(data.keys())"
   ]
  }
 ],
 "metadata": {
  "kernelspec": {
   "display_name": "env",
   "language": "python",
   "name": "python3"
  },
  "language_info": {
   "codemirror_mode": {
    "name": "ipython",
    "version": 3
   },
   "file_extension": ".py",
   "mimetype": "text/x-python",
   "name": "python",
   "nbconvert_exporter": "python",
   "pygments_lexer": "ipython3",
   "version": "3.11.4"
  }
 },
 "nbformat": 4,
 "nbformat_minor": 2
}
